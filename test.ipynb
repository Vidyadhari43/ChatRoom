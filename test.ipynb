{
 "cells": [
  {
   "cell_type": "code",
   "execution_count": 1,
   "metadata": {},
   "outputs": [
    {
     "name": "stdout",
     "output_type": "stream",
     "text": [
      "Your unique chatroom code is: 26e3f664b8403ae7-30e851e7\n"
     ]
    }
   ],
   "source": [
    "import secrets\n",
    "import uuid\n",
    "\n",
    "def generate_chatroom_code():\n",
    "    # Generate a random token using secrets\n",
    "    random_token = secrets.token_hex(8)  # Generates a 16-character hexadecimal string\n",
    "\n",
    "    # Combine with a unique identifier from uuid\n",
    "    unique_id = uuid.uuid4().hex  # Generates a unique 32-character hexadecimal string\n",
    "\n",
    "    # Combine the two to form a unique random code\n",
    "    chatroom_code = f\"{random_token}-{unique_id[:8]}\"  # Use the first 8 characters of the unique_id for brevity\n",
    "\n",
    "    return chatroom_code\n",
    "\n",
    "# Example usage\n",
    "chatroom_code = generate_chatroom_code()\n",
    "print(\"Your unique chatroom code is:\", chatroom_code)\n"
   ]
  },
  {
   "cell_type": "code",
   "execution_count": 8,
   "metadata": {},
   "outputs": [
    {
     "name": "stdout",
     "output_type": "stream",
     "text": [
      "<class 'str'> M\n",
      "9vZMCv5sFR\n",
      "<class 'str'>\n"
     ]
    }
   ],
   "source": [
    "import secrets \n",
    "import string \n",
    "  \n",
    "# print(string.ascii_letters,string.digits,sep='\\n')\n",
    "alphabet = string.ascii_letters + string.digits \n",
    "# print(alphabet)\n",
    "unique_code = ''.join(secrets.choice(alphabet) for i in range(10)) \n",
    "print(type(secrets.choice(alphabet)),secrets.choice(alphabet))\n",
    "print(unique_code) \n",
    "print(type(unique_code))"
   ]
  }
 ],
 "metadata": {
  "kernelspec": {
   "display_name": "Python 3",
   "language": "python",
   "name": "python3"
  },
  "language_info": {
   "codemirror_mode": {
    "name": "ipython",
    "version": 3
   },
   "file_extension": ".py",
   "mimetype": "text/x-python",
   "name": "python",
   "nbconvert_exporter": "python",
   "pygments_lexer": "ipython3",
   "version": "3.12.4"
  }
 },
 "nbformat": 4,
 "nbformat_minor": 2
}
